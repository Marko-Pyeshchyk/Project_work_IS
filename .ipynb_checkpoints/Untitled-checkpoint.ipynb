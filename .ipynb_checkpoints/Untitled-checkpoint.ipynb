{
 "cells": [
  {
   "cell_type": "code",
   "execution_count": 90,
   "id": "b363330d-cd4d-4ef4-8f7e-c4b80b724c24",
   "metadata": {},
   "outputs": [],
   "source": [
    "\n",
    "# Load libraries\n",
    "from pandas import read_csv\n",
    "from pandas.plotting import scatter_matrix\n",
    "from matplotlib import pyplot as plt\n",
    "from sklearn.model_selection import train_test_split\n",
    "from sklearn.model_selection import cross_val_score\n",
    "from sklearn.model_selection import StratifiedKFold\n",
    "from sklearn.metrics import classification_report\n",
    "from sklearn.metrics import confusion_matrix\n",
    "from sklearn.metrics import accuracy_score\n",
    "from sklearn.linear_model import LogisticRegression\n",
    "from sklearn.tree import DecisionTreeClassifier\n",
    "from sklearn.neighbors import KNeighborsClassifier\n",
    "from sklearn.discriminant_analysis import LinearDiscriminantAnalysis\n",
    "from sklearn.naive_bayes import GaussianNB\n",
    "from sklearn.svm import SVC\n",
    "\n",
    "import numpy as np\n",
    "from sklearn.tree import DecisionTreeClassifier, plot_tree\n",
    "from sklearn.metrics import accuracy_score, classification_report, confusion_matrix\n",
    "from sklearn import tree"
   ]
  },
  {
   "cell_type": "markdown",
   "id": "051936e6-32d5-47b9-be87-06e445dd8989",
   "metadata": {},
   "source": [
    "<h2>Importing and exploring the dataset</h2>"
   ]
  },
  {
   "cell_type": "code",
   "execution_count": 91,
   "id": "76d6d3e4-0933-428d-a89a-ac1e0f915cdc",
   "metadata": {},
   "outputs": [
    {
     "data": {
      "text/html": [
       "<div>\n",
       "<style scoped>\n",
       "    .dataframe tbody tr th:only-of-type {\n",
       "        vertical-align: middle;\n",
       "    }\n",
       "\n",
       "    .dataframe tbody tr th {\n",
       "        vertical-align: top;\n",
       "    }\n",
       "\n",
       "    .dataframe thead th {\n",
       "        text-align: right;\n",
       "    }\n",
       "</style>\n",
       "<table border=\"1\" class=\"dataframe\">\n",
       "  <thead>\n",
       "    <tr style=\"text-align: right;\">\n",
       "      <th></th>\n",
       "      <th>cand_id</th>\n",
       "      <th>job_id</th>\n",
       "      <th>distance_km</th>\n",
       "      <th>match_score</th>\n",
       "      <th>match_rank</th>\n",
       "      <th>cand_gender</th>\n",
       "      <th>cand_age_bucket</th>\n",
       "      <th>cand_domicile_province</th>\n",
       "      <th>cand_domicile_region</th>\n",
       "      <th>cand_education</th>\n",
       "      <th>job_contract_type</th>\n",
       "      <th>job_professional_category</th>\n",
       "      <th>job_sector</th>\n",
       "      <th>job_work_province</th>\n",
       "    </tr>\n",
       "  </thead>\n",
       "  <tbody>\n",
       "    <tr>\n",
       "      <th>0</th>\n",
       "      <td>5,664,912</td>\n",
       "      <td>OFF_1011_1427</td>\n",
       "      <td>32.327042</td>\n",
       "      <td>99.573387</td>\n",
       "      <td>1</td>\n",
       "      <td>Male</td>\n",
       "      <td>45-54</td>\n",
       "      <td>UD</td>\n",
       "      <td>FRIULI VENEZIA GIULIA</td>\n",
       "      <td>NaN</td>\n",
       "      <td>Lavoro subordinato</td>\n",
       "      <td>Geometra e tecnico di costruzioni civili e ind...</td>\n",
       "      <td>Progettisti / Design / Grafici</td>\n",
       "      <td>UD</td>\n",
       "    </tr>\n",
       "    <tr>\n",
       "      <th>1</th>\n",
       "      <td>4,999,120</td>\n",
       "      <td>OFF_1011_1427</td>\n",
       "      <td>15.595593</td>\n",
       "      <td>99.210564</td>\n",
       "      <td>2</td>\n",
       "      <td>Male</td>\n",
       "      <td>35-44</td>\n",
       "      <td>UD</td>\n",
       "      <td>FRIULI VENEZIA GIULIA</td>\n",
       "      <td>NaN</td>\n",
       "      <td>Lavoro subordinato</td>\n",
       "      <td>Geometra e tecnico di costruzioni civili e ind...</td>\n",
       "      <td>Progettisti / Design / Grafici</td>\n",
       "      <td>UD</td>\n",
       "    </tr>\n",
       "    <tr>\n",
       "      <th>2</th>\n",
       "      <td>5,413,671</td>\n",
       "      <td>OFF_1011_1427</td>\n",
       "      <td>31.348877</td>\n",
       "      <td>99.118614</td>\n",
       "      <td>3</td>\n",
       "      <td>Female</td>\n",
       "      <td>45-54</td>\n",
       "      <td>UD</td>\n",
       "      <td>FRIULI VENEZIA GIULIA</td>\n",
       "      <td>NaN</td>\n",
       "      <td>Lavoro subordinato</td>\n",
       "      <td>Geometra e tecnico di costruzioni civili e ind...</td>\n",
       "      <td>Progettisti / Design / Grafici</td>\n",
       "      <td>UD</td>\n",
       "    </tr>\n",
       "    <tr>\n",
       "      <th>3</th>\n",
       "      <td>5,965,090</td>\n",
       "      <td>OFF_1011_1427</td>\n",
       "      <td>66.315598</td>\n",
       "      <td>97.409767</td>\n",
       "      <td>4</td>\n",
       "      <td>Male</td>\n",
       "      <td>15-24</td>\n",
       "      <td>TS</td>\n",
       "      <td>FRIULI VENEZIA GIULIA</td>\n",
       "      <td>NaN</td>\n",
       "      <td>Lavoro subordinato</td>\n",
       "      <td>Geometra e tecnico di costruzioni civili e ind...</td>\n",
       "      <td>Progettisti / Design / Grafici</td>\n",
       "      <td>UD</td>\n",
       "    </tr>\n",
       "    <tr>\n",
       "      <th>4</th>\n",
       "      <td>5,771,219</td>\n",
       "      <td>OFF_1011_1427</td>\n",
       "      <td>15.595593</td>\n",
       "      <td>97.323875</td>\n",
       "      <td>5</td>\n",
       "      <td>Female</td>\n",
       "      <td>35-44</td>\n",
       "      <td>UD</td>\n",
       "      <td>FRIULI VENEZIA GIULIA</td>\n",
       "      <td>NaN</td>\n",
       "      <td>Lavoro subordinato</td>\n",
       "      <td>Geometra e tecnico di costruzioni civili e ind...</td>\n",
       "      <td>Progettisti / Design / Grafici</td>\n",
       "      <td>UD</td>\n",
       "    </tr>\n",
       "    <tr>\n",
       "      <th>5</th>\n",
       "      <td>2,216,205</td>\n",
       "      <td>OFF_1011_1427</td>\n",
       "      <td>24.946939</td>\n",
       "      <td>96.922318</td>\n",
       "      <td>6</td>\n",
       "      <td>Male</td>\n",
       "      <td>55-74</td>\n",
       "      <td>UD</td>\n",
       "      <td>FRIULI VENEZIA GIULIA</td>\n",
       "      <td>Diploma / Accademia : Geometra</td>\n",
       "      <td>Lavoro subordinato</td>\n",
       "      <td>Geometra e tecnico di costruzioni civili e ind...</td>\n",
       "      <td>Progettisti / Design / Grafici</td>\n",
       "      <td>UD</td>\n",
       "    </tr>\n",
       "    <tr>\n",
       "      <th>6</th>\n",
       "      <td>4,594,051</td>\n",
       "      <td>OFF_1011_1427</td>\n",
       "      <td>27.959969</td>\n",
       "      <td>96.245216</td>\n",
       "      <td>7</td>\n",
       "      <td>Male</td>\n",
       "      <td>55-74</td>\n",
       "      <td>UD</td>\n",
       "      <td>FRIULI VENEZIA GIULIA</td>\n",
       "      <td>NaN</td>\n",
       "      <td>Lavoro subordinato</td>\n",
       "      <td>Geometra e tecnico di costruzioni civili e ind...</td>\n",
       "      <td>Progettisti / Design / Grafici</td>\n",
       "      <td>UD</td>\n",
       "    </tr>\n",
       "    <tr>\n",
       "      <th>7</th>\n",
       "      <td>5,148,878</td>\n",
       "      <td>OFF_1011_1427</td>\n",
       "      <td>25.512180</td>\n",
       "      <td>96.235245</td>\n",
       "      <td>8</td>\n",
       "      <td>Male</td>\n",
       "      <td>25-34</td>\n",
       "      <td>UD</td>\n",
       "      <td>FRIULI VENEZIA GIULIA</td>\n",
       "      <td>NaN</td>\n",
       "      <td>Lavoro subordinato</td>\n",
       "      <td>Geometra e tecnico di costruzioni civili e ind...</td>\n",
       "      <td>Progettisti / Design / Grafici</td>\n",
       "      <td>UD</td>\n",
       "    </tr>\n",
       "    <tr>\n",
       "      <th>8</th>\n",
       "      <td>5,933,345</td>\n",
       "      <td>OFF_1011_1427</td>\n",
       "      <td>28.856832</td>\n",
       "      <td>96.009712</td>\n",
       "      <td>9</td>\n",
       "      <td>Female</td>\n",
       "      <td>45-54</td>\n",
       "      <td>GO</td>\n",
       "      <td>FRIULI VENEZIA GIULIA</td>\n",
       "      <td>NaN</td>\n",
       "      <td>Lavoro subordinato</td>\n",
       "      <td>Geometra e tecnico di costruzioni civili e ind...</td>\n",
       "      <td>Progettisti / Design / Grafici</td>\n",
       "      <td>UD</td>\n",
       "    </tr>\n",
       "    <tr>\n",
       "      <th>9</th>\n",
       "      <td>7,204,128</td>\n",
       "      <td>OFF_1011_1427</td>\n",
       "      <td>31.348877</td>\n",
       "      <td>95.802277</td>\n",
       "      <td>10</td>\n",
       "      <td>Female</td>\n",
       "      <td>35-44</td>\n",
       "      <td>UD</td>\n",
       "      <td>FRIULI VENEZIA GIULIA</td>\n",
       "      <td>NaN</td>\n",
       "      <td>Lavoro subordinato</td>\n",
       "      <td>Geometra e tecnico di costruzioni civili e ind...</td>\n",
       "      <td>Progettisti / Design / Grafici</td>\n",
       "      <td>UD</td>\n",
       "    </tr>\n",
       "  </tbody>\n",
       "</table>\n",
       "</div>"
      ],
      "text/plain": [
       "     cand_id         job_id  distance_km  match_score  match_rank cand_gender  \\\n",
       "0  5,664,912  OFF_1011_1427    32.327042    99.573387           1        Male   \n",
       "1  4,999,120  OFF_1011_1427    15.595593    99.210564           2        Male   \n",
       "2  5,413,671  OFF_1011_1427    31.348877    99.118614           3      Female   \n",
       "3  5,965,090  OFF_1011_1427    66.315598    97.409767           4        Male   \n",
       "4  5,771,219  OFF_1011_1427    15.595593    97.323875           5      Female   \n",
       "5  2,216,205  OFF_1011_1427    24.946939    96.922318           6        Male   \n",
       "6  4,594,051  OFF_1011_1427    27.959969    96.245216           7        Male   \n",
       "7  5,148,878  OFF_1011_1427    25.512180    96.235245           8        Male   \n",
       "8  5,933,345  OFF_1011_1427    28.856832    96.009712           9      Female   \n",
       "9  7,204,128  OFF_1011_1427    31.348877    95.802277          10      Female   \n",
       "\n",
       "  cand_age_bucket cand_domicile_province   cand_domicile_region  \\\n",
       "0           45-54                     UD  FRIULI VENEZIA GIULIA   \n",
       "1           35-44                     UD  FRIULI VENEZIA GIULIA   \n",
       "2           45-54                     UD  FRIULI VENEZIA GIULIA   \n",
       "3           15-24                     TS  FRIULI VENEZIA GIULIA   \n",
       "4           35-44                     UD  FRIULI VENEZIA GIULIA   \n",
       "5           55-74                     UD  FRIULI VENEZIA GIULIA   \n",
       "6           55-74                     UD  FRIULI VENEZIA GIULIA   \n",
       "7           25-34                     UD  FRIULI VENEZIA GIULIA   \n",
       "8           45-54                     GO  FRIULI VENEZIA GIULIA   \n",
       "9           35-44                     UD  FRIULI VENEZIA GIULIA   \n",
       "\n",
       "                   cand_education   job_contract_type  \\\n",
       "0                             NaN  Lavoro subordinato   \n",
       "1                             NaN  Lavoro subordinato   \n",
       "2                             NaN  Lavoro subordinato   \n",
       "3                             NaN  Lavoro subordinato   \n",
       "4                             NaN  Lavoro subordinato   \n",
       "5  Diploma / Accademia : Geometra  Lavoro subordinato   \n",
       "6                             NaN  Lavoro subordinato   \n",
       "7                             NaN  Lavoro subordinato   \n",
       "8                             NaN  Lavoro subordinato   \n",
       "9                             NaN  Lavoro subordinato   \n",
       "\n",
       "                           job_professional_category  \\\n",
       "0  Geometra e tecnico di costruzioni civili e ind...   \n",
       "1  Geometra e tecnico di costruzioni civili e ind...   \n",
       "2  Geometra e tecnico di costruzioni civili e ind...   \n",
       "3  Geometra e tecnico di costruzioni civili e ind...   \n",
       "4  Geometra e tecnico di costruzioni civili e ind...   \n",
       "5  Geometra e tecnico di costruzioni civili e ind...   \n",
       "6  Geometra e tecnico di costruzioni civili e ind...   \n",
       "7  Geometra e tecnico di costruzioni civili e ind...   \n",
       "8  Geometra e tecnico di costruzioni civili e ind...   \n",
       "9  Geometra e tecnico di costruzioni civili e ind...   \n",
       "\n",
       "                       job_sector job_work_province  \n",
       "0  Progettisti / Design / Grafici               UD   \n",
       "1  Progettisti / Design / Grafici               UD   \n",
       "2  Progettisti / Design / Grafici               UD   \n",
       "3  Progettisti / Design / Grafici               UD   \n",
       "4  Progettisti / Design / Grafici               UD   \n",
       "5  Progettisti / Design / Grafici               UD   \n",
       "6  Progettisti / Design / Grafici               UD   \n",
       "7  Progettisti / Design / Grafici               UD   \n",
       "8  Progettisti / Design / Grafici               UD   \n",
       "9  Progettisti / Design / Grafici               UD   "
      ]
     },
     "execution_count": 91,
     "metadata": {},
     "output_type": "execute_result"
    }
   ],
   "source": [
    "url = \"direct_matching_20240213.csv\"\n",
    "raw_dataset = read_csv(url, sep=\";\", header=0)\n",
    "\n",
    "raw_dataset.head(n=10)"
   ]
  },
  {
   "cell_type": "markdown",
   "id": "37273798-00e6-40dd-ab48-0f6b50560691",
   "metadata": {},
   "source": [
    "as we can see there are some things to change like the candidate education or decide the classification column"
   ]
  },
  {
   "cell_type": "code",
   "execution_count": 92,
   "id": "90ff3ee9-80b3-4232-85bd-0db60844d408",
   "metadata": {},
   "outputs": [
    {
     "data": {
      "text/plain": [
       "cand_id                      8647\n",
       "job_id                       8647\n",
       "distance_km                  8647\n",
       "match_score                  8647\n",
       "match_rank                   8647\n",
       "cand_gender                  8647\n",
       "cand_age_bucket              8646\n",
       "cand_domicile_province       8644\n",
       "cand_domicile_region         8642\n",
       "cand_education               2341\n",
       "job_contract_type            8647\n",
       "job_professional_category    8647\n",
       "job_sector                   8647\n",
       "job_work_province            8647\n",
       "dtype: int64"
      ]
     },
     "execution_count": 92,
     "metadata": {},
     "output_type": "execute_result"
    }
   ],
   "source": [
    "raw_dataset.count()"
   ]
  },
  {
   "cell_type": "code",
   "execution_count": 93,
   "id": "fdf53ece-7da1-43a4-905e-ca8591cd41f6",
   "metadata": {},
   "outputs": [
    {
     "data": {
      "text/plain": [
       "865"
      ]
     },
     "execution_count": 93,
     "metadata": {},
     "output_type": "execute_result"
    }
   ],
   "source": [
    "raw_dataset['job_id'].nunique()"
   ]
  },
  {
   "cell_type": "code",
   "execution_count": 94,
   "id": "8891a739-26f5-4fec-bcf2-78944d4bb5cc",
   "metadata": {},
   "outputs": [
    {
     "data": {
      "text/html": [
       "<div>\n",
       "<style scoped>\n",
       "    .dataframe tbody tr th:only-of-type {\n",
       "        vertical-align: middle;\n",
       "    }\n",
       "\n",
       "    .dataframe tbody tr th {\n",
       "        vertical-align: top;\n",
       "    }\n",
       "\n",
       "    .dataframe thead th {\n",
       "        text-align: right;\n",
       "    }\n",
       "</style>\n",
       "<table border=\"1\" class=\"dataframe\">\n",
       "  <thead>\n",
       "    <tr style=\"text-align: right;\">\n",
       "      <th></th>\n",
       "      <th>cand_id</th>\n",
       "      <th>job_id</th>\n",
       "      <th>distance_km</th>\n",
       "      <th>match_score</th>\n",
       "      <th>match_rank</th>\n",
       "      <th>cand_gender</th>\n",
       "      <th>cand_age_bucket</th>\n",
       "      <th>cand_domicile_province</th>\n",
       "      <th>cand_domicile_region</th>\n",
       "      <th>cand_education</th>\n",
       "      <th>job_contract_type</th>\n",
       "      <th>job_professional_category</th>\n",
       "      <th>job_sector</th>\n",
       "      <th>job_work_province</th>\n",
       "    </tr>\n",
       "  </thead>\n",
       "  <tbody>\n",
       "    <tr>\n",
       "      <th>627</th>\n",
       "      <td>5,449,407</td>\n",
       "      <td>OFF_1745_0198</td>\n",
       "      <td>34.129036</td>\n",
       "      <td>99.759705</td>\n",
       "      <td>9</td>\n",
       "      <td>Male</td>\n",
       "      <td>35-44</td>\n",
       "      <td>NaN</td>\n",
       "      <td>CAMPANIA</td>\n",
       "      <td>NaN</td>\n",
       "      <td>Lavoro subordinato</td>\n",
       "      <td>Carrellista/Mulettista</td>\n",
       "      <td>Magazzino / Logistica / Trasporti</td>\n",
       "      <td>MN</td>\n",
       "    </tr>\n",
       "    <tr>\n",
       "      <th>4493</th>\n",
       "      <td>5,262,317</td>\n",
       "      <td>OFF_789_0870</td>\n",
       "      <td>80.433472</td>\n",
       "      <td>99.623642</td>\n",
       "      <td>6</td>\n",
       "      <td>Male</td>\n",
       "      <td>25-34</td>\n",
       "      <td>NaN</td>\n",
       "      <td>CAMPANIA</td>\n",
       "      <td>NaN</td>\n",
       "      <td>Lavoro subordinato</td>\n",
       "      <td>analista finanziario/analista finanziaria</td>\n",
       "      <td>Banche / Assicurazioni / Istituti di Credito</td>\n",
       "      <td>FI</td>\n",
       "    </tr>\n",
       "    <tr>\n",
       "      <th>8301</th>\n",
       "      <td>6,523,103</td>\n",
       "      <td>ORD_48061_0590</td>\n",
       "      <td>82.721603</td>\n",
       "      <td>96.154732</td>\n",
       "      <td>5</td>\n",
       "      <td>Male</td>\n",
       "      <td>15-24</td>\n",
       "      <td>NaN</td>\n",
       "      <td>NaN</td>\n",
       "      <td>NaN</td>\n",
       "      <td>Lavoro subordinato</td>\n",
       "      <td>Operaio Generico Elettronico/ Elettrotecnico</td>\n",
       "      <td>Operai Generici</td>\n",
       "      <td>BZ</td>\n",
       "    </tr>\n",
       "  </tbody>\n",
       "</table>\n",
       "</div>"
      ],
      "text/plain": [
       "        cand_id          job_id  distance_km  match_score  match_rank  \\\n",
       "627   5,449,407   OFF_1745_0198    34.129036    99.759705           9   \n",
       "4493  5,262,317    OFF_789_0870    80.433472    99.623642           6   \n",
       "8301  6,523,103  ORD_48061_0590    82.721603    96.154732           5   \n",
       "\n",
       "     cand_gender cand_age_bucket cand_domicile_province cand_domicile_region  \\\n",
       "627         Male           35-44                    NaN             CAMPANIA   \n",
       "4493        Male           25-34                    NaN             CAMPANIA   \n",
       "8301        Male           15-24                    NaN                  NaN   \n",
       "\n",
       "     cand_education   job_contract_type  \\\n",
       "627             NaN  Lavoro subordinato   \n",
       "4493            NaN  Lavoro subordinato   \n",
       "8301            NaN  Lavoro subordinato   \n",
       "\n",
       "                         job_professional_category  \\\n",
       "627                         Carrellista/Mulettista   \n",
       "4493     analista finanziario/analista finanziaria   \n",
       "8301  Operaio Generico Elettronico/ Elettrotecnico   \n",
       "\n",
       "                                        job_sector job_work_province  \n",
       "627              Magazzino / Logistica / Trasporti               MN   \n",
       "4493  Banche / Assicurazioni / Istituti di Credito               FI   \n",
       "8301                               Operai Generici               BZ   "
      ]
     },
     "execution_count": 94,
     "metadata": {},
     "output_type": "execute_result"
    }
   ],
   "source": [
    "raw_dataset[raw_dataset[\"cand_domicile_province\"].isna()]"
   ]
  },
  {
   "cell_type": "markdown",
   "id": "a91d7ff4-a4ab-47bf-a8c0-630eb9242033",
   "metadata": {},
   "source": [
    "From what we can see here there is some missing data (we have 8647 candidates and 8642 domicile provinces) so I've decided to drop the missing data raws except for \"cand_education\" where I've replaced missing values with \"no info\" for those candidates that haven't specified the value."
   ]
  },
  {
   "cell_type": "code",
   "execution_count": 95,
   "id": "b9719c8e-eea7-47f0-9c2f-e9390727dddf",
   "metadata": {
    "scrolled": true
   },
   "outputs": [],
   "source": [
    "dataset = raw_dataset.copy()\n",
    "dataset[\"cand_education\"] = dataset[\"cand_education\"].fillna(value=\"no info\")\n",
    "dataset = dataset.dropna()"
   ]
  },
  {
   "cell_type": "markdown",
   "id": "1acc9a99-bf89-4c2c-aa30-a09dfa994c00",
   "metadata": {},
   "source": [
    "Being that \"match_score\" and \"match_rank\" are stricktly correlated and they mean the same thing, I've decided to drop the last one."
   ]
  },
  {
   "cell_type": "code",
   "execution_count": 96,
   "id": "7f1f489b-2493-4378-830f-ab18d2665869",
   "metadata": {},
   "outputs": [
    {
     "data": {
      "text/plain": [
       "cand_id                      8639\n",
       "job_id                       8639\n",
       "distance_km                  8639\n",
       "match_score                  8639\n",
       "cand_gender                  8639\n",
       "cand_age_bucket              8639\n",
       "cand_domicile_province       8639\n",
       "cand_domicile_region         8639\n",
       "cand_education               8639\n",
       "job_contract_type            8639\n",
       "job_professional_category    8639\n",
       "job_sector                   8639\n",
       "job_work_province            8639\n",
       "dtype: int64"
      ]
     },
     "execution_count": 96,
     "metadata": {},
     "output_type": "execute_result"
    }
   ],
   "source": [
    "#essendo che match rank e score indicano la stessa cosa e sono correlati teniamo solo una delle due informazioni e la usiamo come colonna per classificare\n",
    "del dataset[\"match_rank\"]\n",
    "dataset.count()"
   ]
  },
  {
   "cell_type": "markdown",
   "id": "5eef8dca-1c5b-4523-a264-db8f4e4ace2a",
   "metadata": {},
   "source": [
    "now the dataset is clean and ready to be used."
   ]
  },
  {
   "cell_type": "markdown",
   "id": "518792c7-7b3c-4aa2-9744-7c4e5e60cc52",
   "metadata": {},
   "source": [
    "<h2>Classification</h2>"
   ]
  },
  {
   "cell_type": "code",
   "execution_count": 97,
   "id": "7b26ede6-54b5-4ed9-8d57-e1a9433dfb6b",
   "metadata": {},
   "outputs": [
    {
     "data": {
      "text/html": [
       "<div>\n",
       "<style scoped>\n",
       "    .dataframe tbody tr th:only-of-type {\n",
       "        vertical-align: middle;\n",
       "    }\n",
       "\n",
       "    .dataframe tbody tr th {\n",
       "        vertical-align: top;\n",
       "    }\n",
       "\n",
       "    .dataframe thead th {\n",
       "        text-align: right;\n",
       "    }\n",
       "</style>\n",
       "<table border=\"1\" class=\"dataframe\">\n",
       "  <thead>\n",
       "    <tr style=\"text-align: right;\">\n",
       "      <th></th>\n",
       "      <th>distance_km</th>\n",
       "      <th>match_score</th>\n",
       "    </tr>\n",
       "  </thead>\n",
       "  <tbody>\n",
       "    <tr>\n",
       "      <th>count</th>\n",
       "      <td>8639.000000</td>\n",
       "      <td>8639.000000</td>\n",
       "    </tr>\n",
       "    <tr>\n",
       "      <th>mean</th>\n",
       "      <td>29.754485</td>\n",
       "      <td>99.634336</td>\n",
       "    </tr>\n",
       "    <tr>\n",
       "      <th>std</th>\n",
       "      <td>23.484031</td>\n",
       "      <td>1.071206</td>\n",
       "    </tr>\n",
       "    <tr>\n",
       "      <th>min</th>\n",
       "      <td>0.000000</td>\n",
       "      <td>69.610825</td>\n",
       "    </tr>\n",
       "    <tr>\n",
       "      <th>25%</th>\n",
       "      <td>12.252331</td>\n",
       "      <td>99.677177</td>\n",
       "    </tr>\n",
       "    <tr>\n",
       "      <th>50%</th>\n",
       "      <td>23.437698</td>\n",
       "      <td>99.856194</td>\n",
       "    </tr>\n",
       "    <tr>\n",
       "      <th>75%</th>\n",
       "      <td>41.751572</td>\n",
       "      <td>99.932739</td>\n",
       "    </tr>\n",
       "    <tr>\n",
       "      <th>max</th>\n",
       "      <td>99.966797</td>\n",
       "      <td>99.999214</td>\n",
       "    </tr>\n",
       "  </tbody>\n",
       "</table>\n",
       "</div>"
      ],
      "text/plain": [
       "       distance_km  match_score\n",
       "count  8639.000000  8639.000000\n",
       "mean     29.754485    99.634336\n",
       "std      23.484031     1.071206\n",
       "min       0.000000    69.610825\n",
       "25%      12.252331    99.677177\n",
       "50%      23.437698    99.856194\n",
       "75%      41.751572    99.932739\n",
       "max      99.966797    99.999214"
      ]
     },
     "execution_count": 97,
     "metadata": {},
     "output_type": "execute_result"
    }
   ],
   "source": [
    "dataset.describe()"
   ]
  },
  {
   "cell_type": "code",
   "execution_count": 98,
   "id": "d8e8be3f-4db1-4e9f-b8c7-458485bfa1a4",
   "metadata": {},
   "outputs": [
    {
     "data": {
      "text/plain": [
       "match_score\n",
       "69.610825     1\n",
       "70.457268     1\n",
       "70.597702     1\n",
       "70.719627     1\n",
       "71.857597     1\n",
       "             ..\n",
       "99.998108     4\n",
       "99.998352    20\n",
       "99.998764    10\n",
       "99.999199     7\n",
       "99.999214     3\n",
       "Length: 7554, dtype: int64"
      ]
     },
     "execution_count": 98,
     "metadata": {},
     "output_type": "execute_result"
    }
   ],
   "source": [
    "target = 'match_score'\n",
    "X = dataset.drop(target ,axis = 1)\n",
    "y = dataset[target]\n",
    "\n",
    "dataset.groupby(\"match_score\").size()"
   ]
  },
  {
   "cell_type": "code",
   "execution_count": 99,
   "id": "3b5f5a05-1303-4e74-a255-41ff1c864e53",
   "metadata": {},
   "outputs": [
    {
     "data": {
      "image/png": "[encoded data removed]",
      "text/plain": [
       "<Figure size 640x480 with 4 Axes>"
      ]
     },
     "metadata": {},
     "output_type": "display_data"
    }
   ],
   "source": [
    "dataset[\"match_score\"].plot(kind='box', subplots=True, layout=(2,2), sharex=False, sharey=False)\n",
    "plt.show()"
   ]
  },
  {
   "cell_type": "code",
   "execution_count": 100,
   "id": "a6c1721b-d607-41c1-9a2d-c7abf345ad44",
   "metadata": {},
   "outputs": [
    {
     "data": {
      "image/png": "[encoded data removed]",
      "text/plain": [
       "<Figure size 640x480 with 1 Axes>"
      ]
     },
     "metadata": {},
     "output_type": "display_data"
    }
   ],
   "source": [
    "dataset[\"distance_km\"].hist()\n",
    "plt.show()"
   ]
  },
  {
   "cell_type": "code",
   "execution_count": 101,
   "id": "50532e12-4000-42b1-9ee9-6401e29c61fb",
   "metadata": {},
   "outputs": [
    {
     "data": {
      "image/png": "[encoded data removed]",
      "text/plain": [
       "<Figure size 640x480 with 4 Axes>"
      ]
     },
     "metadata": {},
     "output_type": "display_data"
    }
   ],
   "source": [
    "scatter_matrix(dataset)\n",
    "plt.show()"
   ]
  },
  {
   "cell_type": "code",
   "execution_count": 102,
   "id": "89983f51-f254-47a9-8ac2-de770f878328",
   "metadata": {},
   "outputs": [
    {
     "name": "stdout",
     "output_type": "stream",
     "text": [
      "(6047, 12) (2592, 12) (6047,) (2592,)\n"
     ]
    }
   ],
   "source": [
    "train_size = 0.7\n",
    "\n",
    "X_train, X_test, y_train, y_test = train_test_split(X, y, random_state=1, train_size=train_size)\n",
    "\n",
    "print(X_train.shape, X_test.shape, y_train.shape, y_test.shape)"
   ]
  },
  {
   "cell_type": "code",
   "execution_count": 103,
   "id": "06255bd0-5491-48f1-b255-49dfb7e9a207",
   "metadata": {},
   "outputs": [
    {
     "ename": "ValueError",
     "evalue": "could not convert string to float: '6,483,160'",
     "output_type": "error",
     "traceback": [
      "\u001b[1;31m---------------------------------------------------------------------------\u001b[0m",
      "\u001b[1;31mValueError\u001b[0m                                Traceback (most recent call last)",
      "\u001b[1;32m~\\AppData\\Local\\Temp\\ipykernel_11436\\3903180952.py\u001b[0m in \u001b[0;36m?\u001b[1;34m()\u001b[0m\n\u001b[0;32m      1\u001b[0m \u001b[0mestimator\u001b[0m \u001b[1;33m=\u001b[0m \u001b[0mtree\u001b[0m\u001b[1;33m.\u001b[0m\u001b[0mDecisionTreeClassifier\u001b[0m\u001b[1;33m(\u001b[0m\u001b[1;33m)\u001b[0m\u001b[1;33m\u001b[0m\u001b[1;33m\u001b[0m\u001b[0m\n\u001b[1;32m----> 2\u001b[1;33m \u001b[0mestimator\u001b[0m\u001b[1;33m.\u001b[0m\u001b[0mfit\u001b[0m\u001b[1;33m(\u001b[0m\u001b[0mX_train\u001b[0m\u001b[1;33m,\u001b[0m \u001b[0my_train\u001b[0m\u001b[1;33m)\u001b[0m\u001b[1;33m\u001b[0m\u001b[1;33m\u001b[0m\u001b[0m\n\u001b[0m\u001b[0;32m      3\u001b[0m \u001b[0my_predicted_train\u001b[0m \u001b[1;33m=\u001b[0m \u001b[0mestimator\u001b[0m\u001b[1;33m.\u001b[0m\u001b[0mpredict\u001b[0m\u001b[1;33m(\u001b[0m\u001b[0mX_train\u001b[0m\u001b[1;33m)\u001b[0m\u001b[1;33m\u001b[0m\u001b[1;33m\u001b[0m\u001b[0m\n\u001b[0;32m      4\u001b[0m \u001b[1;33m\u001b[0m\u001b[0m\n\u001b[0;32m      5\u001b[0m \u001b[0maccuracy_train\u001b[0m \u001b[1;33m=\u001b[0m \u001b[0maccuracy_score\u001b[0m\u001b[1;33m(\u001b[0m\u001b[0my_predicted_train\u001b[0m\u001b[1;33m,\u001b[0m \u001b[0my_train\u001b[0m\u001b[1;33m)\u001b[0m\u001b[1;33m*\u001b[0m\u001b[1;36m100\u001b[0m\u001b[1;33m\u001b[0m\u001b[1;33m\u001b[0m\u001b[0m\n",
      "\u001b[1;32m~\\AppData\\Local\\Programs\\Python\\Python310\\lib\\site-packages\\sklearn\\base.py\u001b[0m in \u001b[0;36m?\u001b[1;34m(estimator, *args, **kwargs)\u001b[0m\n\u001b[0;32m   1385\u001b[0m                 skip_parameter_validation=(\n\u001b[0;32m   1386\u001b[0m                     \u001b[0mprefer_skip_nested_validation\u001b[0m \u001b[1;32mor\u001b[0m \u001b[0mglobal_skip_validation\u001b[0m\u001b[1;33m\u001b[0m\u001b[1;33m\u001b[0m\u001b[0m\n\u001b[0;32m   1387\u001b[0m                 )\n\u001b[0;32m   1388\u001b[0m             ):\n\u001b[1;32m-> 1389\u001b[1;33m                 \u001b[1;32mreturn\u001b[0m \u001b[0mfit_method\u001b[0m\u001b[1;33m(\u001b[0m\u001b[0mestimator\u001b[0m\u001b[1;33m,\u001b[0m \u001b[1;33m*\u001b[0m\u001b[0margs\u001b[0m\u001b[1;33m,\u001b[0m \u001b[1;33m**\u001b[0m\u001b[0mkwargs\u001b[0m\u001b[1;33m)\u001b[0m\u001b[1;33m\u001b[0m\u001b[1;33m\u001b[0m\u001b[0m\n\u001b[0m",
      "\u001b[1;32m~\\AppData\\Local\\Programs\\Python\\Python310\\lib\\site-packages\\sklearn\\tree\\_classes.py\u001b[0m in \u001b[0;36m?\u001b[1;34m(self, X, y, sample_weight, check_input)\u001b[0m\n\u001b[0;32m   1015\u001b[0m         \u001b[0mself\u001b[0m \u001b[1;33m:\u001b[0m \u001b[0mDecisionTreeClassifier\u001b[0m\u001b[1;33m\u001b[0m\u001b[1;33m\u001b[0m\u001b[0m\n\u001b[0;32m   1016\u001b[0m             \u001b[0mFitted\u001b[0m \u001b[0mestimator\u001b[0m\u001b[1;33m.\u001b[0m\u001b[1;33m\u001b[0m\u001b[1;33m\u001b[0m\u001b[0m\n\u001b[0;32m   1017\u001b[0m         \"\"\"\n\u001b[0;32m   1018\u001b[0m \u001b[1;33m\u001b[0m\u001b[0m\n\u001b[1;32m-> 1019\u001b[1;33m         super()._fit(\n\u001b[0m\u001b[0;32m   1020\u001b[0m             \u001b[0mX\u001b[0m\u001b[1;33m,\u001b[0m\u001b[1;33m\u001b[0m\u001b[1;33m\u001b[0m\u001b[0m\n\u001b[0;32m   1021\u001b[0m             \u001b[0my\u001b[0m\u001b[1;33m,\u001b[0m\u001b[1;33m\u001b[0m\u001b[1;33m\u001b[0m\u001b[0m\n\u001b[0;32m   1022\u001b[0m             \u001b[0msample_weight\u001b[0m\u001b[1;33m=\u001b[0m\u001b[0msample_weight\u001b[0m\u001b[1;33m,\u001b[0m\u001b[1;33m\u001b[0m\u001b[1;33m\u001b[0m\u001b[0m\n",
      "\u001b[1;32m~\\AppData\\Local\\Programs\\Python\\Python310\\lib\\site-packages\\sklearn\\tree\\_classes.py\u001b[0m in \u001b[0;36m?\u001b[1;34m(self, X, y, sample_weight, check_input, missing_values_in_feature_mask)\u001b[0m\n\u001b[0;32m    248\u001b[0m             check_X_params = dict(\n\u001b[0;32m    249\u001b[0m                 \u001b[0mdtype\u001b[0m\u001b[1;33m=\u001b[0m\u001b[0mDTYPE\u001b[0m\u001b[1;33m,\u001b[0m \u001b[0maccept_sparse\u001b[0m\u001b[1;33m=\u001b[0m\u001b[1;34m\"csc\"\u001b[0m\u001b[1;33m,\u001b[0m \u001b[0mensure_all_finite\u001b[0m\u001b[1;33m=\u001b[0m\u001b[1;32mFalse\u001b[0m\u001b[1;33m\u001b[0m\u001b[1;33m\u001b[0m\u001b[0m\n\u001b[0;32m    250\u001b[0m             )\n\u001b[0;32m    251\u001b[0m             \u001b[0mcheck_y_params\u001b[0m \u001b[1;33m=\u001b[0m \u001b[0mdict\u001b[0m\u001b[1;33m(\u001b[0m\u001b[0mensure_2d\u001b[0m\u001b[1;33m=\u001b[0m\u001b[1;32mFalse\u001b[0m\u001b[1;33m,\u001b[0m \u001b[0mdtype\u001b[0m\u001b[1;33m=\u001b[0m\u001b[1;32mNone\u001b[0m\u001b[1;33m)\u001b[0m\u001b[1;33m\u001b[0m\u001b[1;33m\u001b[0m\u001b[0m\n\u001b[1;32m--> 252\u001b[1;33m             X, y = validate_data(\n\u001b[0m\u001b[0;32m    253\u001b[0m                 \u001b[0mself\u001b[0m\u001b[1;33m,\u001b[0m \u001b[0mX\u001b[0m\u001b[1;33m,\u001b[0m \u001b[0my\u001b[0m\u001b[1;33m,\u001b[0m \u001b[0mvalidate_separately\u001b[0m\u001b[1;33m=\u001b[0m\u001b[1;33m(\u001b[0m\u001b[0mcheck_X_params\u001b[0m\u001b[1;33m,\u001b[0m \u001b[0mcheck_y_params\u001b[0m\u001b[1;33m)\u001b[0m\u001b[1;33m\u001b[0m\u001b[1;33m\u001b[0m\u001b[0m\n\u001b[0;32m    254\u001b[0m             )\n\u001b[0;32m    255\u001b[0m \u001b[1;33m\u001b[0m\u001b[0m\n",
      "\u001b[1;32m~\\AppData\\Local\\Programs\\Python\\Python310\\lib\\site-packages\\sklearn\\utils\\validation.py\u001b[0m in \u001b[0;36m?\u001b[1;34m(_estimator, X, y, reset, validate_separately, skip_check_array, **check_params)\u001b[0m\n\u001b[0;32m   2952\u001b[0m             \u001b[1;31m# :(\u001b[0m\u001b[1;33m\u001b[0m\u001b[1;33m\u001b[0m\u001b[0m\n\u001b[0;32m   2953\u001b[0m             \u001b[0mcheck_X_params\u001b[0m\u001b[1;33m,\u001b[0m \u001b[0mcheck_y_params\u001b[0m \u001b[1;33m=\u001b[0m \u001b[0mvalidate_separately\u001b[0m\u001b[1;33m\u001b[0m\u001b[1;33m\u001b[0m\u001b[0m\n\u001b[0;32m   2954\u001b[0m             \u001b[1;32mif\u001b[0m \u001b[1;34m\"estimator\"\u001b[0m \u001b[1;32mnot\u001b[0m \u001b[1;32min\u001b[0m \u001b[0mcheck_X_params\u001b[0m\u001b[1;33m:\u001b[0m\u001b[1;33m\u001b[0m\u001b[1;33m\u001b[0m\u001b[0m\n\u001b[0;32m   2955\u001b[0m                 \u001b[0mcheck_X_params\u001b[0m \u001b[1;33m=\u001b[0m \u001b[1;33m{\u001b[0m\u001b[1;33m**\u001b[0m\u001b[0mdefault_check_params\u001b[0m\u001b[1;33m,\u001b[0m \u001b[1;33m**\u001b[0m\u001b[0mcheck_X_params\u001b[0m\u001b[1;33m}\u001b[0m\u001b[1;33m\u001b[0m\u001b[1;33m\u001b[0m\u001b[0m\n\u001b[1;32m-> 2956\u001b[1;33m             \u001b[0mX\u001b[0m \u001b[1;33m=\u001b[0m \u001b[0mcheck_array\u001b[0m\u001b[1;33m(\u001b[0m\u001b[0mX\u001b[0m\u001b[1;33m,\u001b[0m \u001b[0minput_name\u001b[0m\u001b[1;33m=\u001b[0m\u001b[1;34m\"X\"\u001b[0m\u001b[1;33m,\u001b[0m \u001b[1;33m**\u001b[0m\u001b[0mcheck_X_params\u001b[0m\u001b[1;33m)\u001b[0m\u001b[1;33m\u001b[0m\u001b[1;33m\u001b[0m\u001b[0m\n\u001b[0m\u001b[0;32m   2957\u001b[0m             \u001b[1;32mif\u001b[0m \u001b[1;34m\"estimator\"\u001b[0m \u001b[1;32mnot\u001b[0m \u001b[1;32min\u001b[0m \u001b[0mcheck_y_params\u001b[0m\u001b[1;33m:\u001b[0m\u001b[1;33m\u001b[0m\u001b[1;33m\u001b[0m\u001b[0m\n\u001b[0;32m   2958\u001b[0m                 \u001b[0mcheck_y_params\u001b[0m \u001b[1;33m=\u001b[0m \u001b[1;33m{\u001b[0m\u001b[1;33m**\u001b[0m\u001b[0mdefault_check_params\u001b[0m\u001b[1;33m,\u001b[0m \u001b[1;33m**\u001b[0m\u001b[0mcheck_y_params\u001b[0m\u001b[1;33m}\u001b[0m\u001b[1;33m\u001b[0m\u001b[1;33m\u001b[0m\u001b[0m\n\u001b[0;32m   2959\u001b[0m             \u001b[0my\u001b[0m \u001b[1;33m=\u001b[0m \u001b[0mcheck_array\u001b[0m\u001b[1;33m(\u001b[0m\u001b[0my\u001b[0m\u001b[1;33m,\u001b[0m \u001b[0minput_name\u001b[0m\u001b[1;33m=\u001b[0m\u001b[1;34m\"y\"\u001b[0m\u001b[1;33m,\u001b[0m \u001b[1;33m**\u001b[0m\u001b[0mcheck_y_params\u001b[0m\u001b[1;33m)\u001b[0m\u001b[1;33m\u001b[0m\u001b[1;33m\u001b[0m\u001b[0m\n",
      "\u001b[1;32m~\\AppData\\Local\\Programs\\Python\\Python310\\lib\\site-packages\\sklearn\\utils\\validation.py\u001b[0m in \u001b[0;36m?\u001b[1;34m(array, accept_sparse, accept_large_sparse, dtype, order, copy, force_writeable, force_all_finite, ensure_all_finite, ensure_non_negative, ensure_2d, allow_nd, ensure_min_samples, ensure_min_features, estimator, input_name)\u001b[0m\n\u001b[0;32m   1052\u001b[0m                         )\n\u001b[0;32m   1053\u001b[0m                     \u001b[0marray\u001b[0m \u001b[1;33m=\u001b[0m \u001b[0mxp\u001b[0m\u001b[1;33m.\u001b[0m\u001b[0mastype\u001b[0m\u001b[1;33m(\u001b[0m\u001b[0marray\u001b[0m\u001b[1;33m,\u001b[0m \u001b[0mdtype\u001b[0m\u001b[1;33m,\u001b[0m \u001b[0mcopy\u001b[0m\u001b[1;33m=\u001b[0m\u001b[1;32mFalse\u001b[0m\u001b[1;33m)\u001b[0m\u001b[1;33m\u001b[0m\u001b[1;33m\u001b[0m\u001b[0m\n\u001b[0;32m   1054\u001b[0m                 \u001b[1;32melse\u001b[0m\u001b[1;33m:\u001b[0m\u001b[1;33m\u001b[0m\u001b[1;33m\u001b[0m\u001b[0m\n\u001b[0;32m   1055\u001b[0m                     \u001b[0marray\u001b[0m \u001b[1;33m=\u001b[0m \u001b[0m_asarray_with_order\u001b[0m\u001b[1;33m(\u001b[0m\u001b[0marray\u001b[0m\u001b[1;33m,\u001b[0m \u001b[0morder\u001b[0m\u001b[1;33m=\u001b[0m\u001b[0morder\u001b[0m\u001b[1;33m,\u001b[0m \u001b[0mdtype\u001b[0m\u001b[1;33m=\u001b[0m\u001b[0mdtype\u001b[0m\u001b[1;33m,\u001b[0m \u001b[0mxp\u001b[0m\u001b[1;33m=\u001b[0m\u001b[0mxp\u001b[0m\u001b[1;33m)\u001b[0m\u001b[1;33m\u001b[0m\u001b[1;33m\u001b[0m\u001b[0m\n\u001b[1;32m-> 1056\u001b[1;33m             \u001b[1;32mexcept\u001b[0m \u001b[0mComplexWarning\u001b[0m \u001b[1;32mas\u001b[0m \u001b[0mcomplex_warning\u001b[0m\u001b[1;33m:\u001b[0m\u001b[1;33m\u001b[0m\u001b[1;33m\u001b[0m\u001b[0m\n\u001b[0m\u001b[0;32m   1057\u001b[0m                 raise ValueError(\n\u001b[0;32m   1058\u001b[0m                     \u001b[1;34m\"Complex data not supported\\n{}\\n\"\u001b[0m\u001b[1;33m.\u001b[0m\u001b[0mformat\u001b[0m\u001b[1;33m(\u001b[0m\u001b[0marray\u001b[0m\u001b[1;33m)\u001b[0m\u001b[1;33m\u001b[0m\u001b[1;33m\u001b[0m\u001b[0m\n\u001b[0;32m   1059\u001b[0m                 ) from complex_warning\n",
      "\u001b[1;32m~\\AppData\\Local\\Programs\\Python\\Python310\\lib\\site-packages\\sklearn\\utils\\_array_api.py\u001b[0m in \u001b[0;36m?\u001b[1;34m(array, dtype, order, copy, xp, device)\u001b[0m\n\u001b[0;32m    828\u001b[0m         \u001b[1;31m# Use NumPy API to support order\u001b[0m\u001b[1;33m\u001b[0m\u001b[1;33m\u001b[0m\u001b[0m\n\u001b[0;32m    829\u001b[0m         \u001b[1;32mif\u001b[0m \u001b[0mcopy\u001b[0m \u001b[1;32mis\u001b[0m \u001b[1;32mTrue\u001b[0m\u001b[1;33m:\u001b[0m\u001b[1;33m\u001b[0m\u001b[1;33m\u001b[0m\u001b[0m\n\u001b[0;32m    830\u001b[0m             \u001b[0marray\u001b[0m \u001b[1;33m=\u001b[0m \u001b[0mnumpy\u001b[0m\u001b[1;33m.\u001b[0m\u001b[0marray\u001b[0m\u001b[1;33m(\u001b[0m\u001b[0marray\u001b[0m\u001b[1;33m,\u001b[0m \u001b[0morder\u001b[0m\u001b[1;33m=\u001b[0m\u001b[0morder\u001b[0m\u001b[1;33m,\u001b[0m \u001b[0mdtype\u001b[0m\u001b[1;33m=\u001b[0m\u001b[0mdtype\u001b[0m\u001b[1;33m)\u001b[0m\u001b[1;33m\u001b[0m\u001b[1;33m\u001b[0m\u001b[0m\n\u001b[0;32m    831\u001b[0m         \u001b[1;32melse\u001b[0m\u001b[1;33m:\u001b[0m\u001b[1;33m\u001b[0m\u001b[1;33m\u001b[0m\u001b[0m\n\u001b[1;32m--> 832\u001b[1;33m             \u001b[0marray\u001b[0m \u001b[1;33m=\u001b[0m \u001b[0mnumpy\u001b[0m\u001b[1;33m.\u001b[0m\u001b[0masarray\u001b[0m\u001b[1;33m(\u001b[0m\u001b[0marray\u001b[0m\u001b[1;33m,\u001b[0m \u001b[0morder\u001b[0m\u001b[1;33m=\u001b[0m\u001b[0morder\u001b[0m\u001b[1;33m,\u001b[0m \u001b[0mdtype\u001b[0m\u001b[1;33m=\u001b[0m\u001b[0mdtype\u001b[0m\u001b[1;33m)\u001b[0m\u001b[1;33m\u001b[0m\u001b[1;33m\u001b[0m\u001b[0m\n\u001b[0m\u001b[0;32m    833\u001b[0m \u001b[1;33m\u001b[0m\u001b[0m\n\u001b[0;32m    834\u001b[0m         \u001b[1;31m# At this point array is a NumPy ndarray. We convert it to an array\u001b[0m\u001b[1;33m\u001b[0m\u001b[1;33m\u001b[0m\u001b[0m\n\u001b[0;32m    835\u001b[0m         \u001b[1;31m# container that is consistent with the input's namespace.\u001b[0m\u001b[1;33m\u001b[0m\u001b[1;33m\u001b[0m\u001b[0m\n",
      "\u001b[1;32m~\\AppData\\Local\\Programs\\Python\\Python310\\lib\\site-packages\\pandas\\core\\generic.py\u001b[0m in \u001b[0;36m?\u001b[1;34m(self, dtype, copy)\u001b[0m\n\u001b[0;32m   2149\u001b[0m     def __array__(\n\u001b[0;32m   2150\u001b[0m         \u001b[0mself\u001b[0m\u001b[1;33m,\u001b[0m \u001b[0mdtype\u001b[0m\u001b[1;33m:\u001b[0m \u001b[0mnpt\u001b[0m\u001b[1;33m.\u001b[0m\u001b[0mDTypeLike\u001b[0m \u001b[1;33m|\u001b[0m \u001b[1;32mNone\u001b[0m \u001b[1;33m=\u001b[0m \u001b[1;32mNone\u001b[0m\u001b[1;33m,\u001b[0m \u001b[0mcopy\u001b[0m\u001b[1;33m:\u001b[0m \u001b[0mbool_t\u001b[0m \u001b[1;33m|\u001b[0m \u001b[1;32mNone\u001b[0m \u001b[1;33m=\u001b[0m \u001b[1;32mNone\u001b[0m\u001b[1;33m\u001b[0m\u001b[1;33m\u001b[0m\u001b[0m\n\u001b[0;32m   2151\u001b[0m     ) -> np.ndarray:\n\u001b[0;32m   2152\u001b[0m         \u001b[0mvalues\u001b[0m \u001b[1;33m=\u001b[0m \u001b[0mself\u001b[0m\u001b[1;33m.\u001b[0m\u001b[0m_values\u001b[0m\u001b[1;33m\u001b[0m\u001b[1;33m\u001b[0m\u001b[0m\n\u001b[1;32m-> 2153\u001b[1;33m         \u001b[0marr\u001b[0m \u001b[1;33m=\u001b[0m \u001b[0mnp\u001b[0m\u001b[1;33m.\u001b[0m\u001b[0masarray\u001b[0m\u001b[1;33m(\u001b[0m\u001b[0mvalues\u001b[0m\u001b[1;33m,\u001b[0m \u001b[0mdtype\u001b[0m\u001b[1;33m=\u001b[0m\u001b[0mdtype\u001b[0m\u001b[1;33m)\u001b[0m\u001b[1;33m\u001b[0m\u001b[1;33m\u001b[0m\u001b[0m\n\u001b[0m\u001b[0;32m   2154\u001b[0m         if (\n\u001b[0;32m   2155\u001b[0m             \u001b[0mastype_is_view\u001b[0m\u001b[1;33m(\u001b[0m\u001b[0mvalues\u001b[0m\u001b[1;33m.\u001b[0m\u001b[0mdtype\u001b[0m\u001b[1;33m,\u001b[0m \u001b[0marr\u001b[0m\u001b[1;33m.\u001b[0m\u001b[0mdtype\u001b[0m\u001b[1;33m)\u001b[0m\u001b[1;33m\u001b[0m\u001b[1;33m\u001b[0m\u001b[0m\n\u001b[0;32m   2156\u001b[0m             \u001b[1;32mand\u001b[0m \u001b[0musing_copy_on_write\u001b[0m\u001b[1;33m(\u001b[0m\u001b[1;33m)\u001b[0m\u001b[1;33m\u001b[0m\u001b[1;33m\u001b[0m\u001b[0m\n",
      "\u001b[1;31mValueError\u001b[0m: could not convert string to float: '6,483,160'"
     ]
    }
   ],
   "source": [
    "estimator = tree.DecisionTreeClassifier()\n",
    "estimator.fit(X_train, y_train)\n",
    "y_predicted_train = estimator.predict(X_train)\n",
    "\n",
    "accuracy_train = accuracy_score(y_predicted_train, y_train)*100\n",
    "print(accuracy_train)"
   ]
  },
  {
   "cell_type": "code",
   "execution_count": null,
   "id": "fe06a27d-72ac-46c2-a3f6-6ffc507f57e2",
   "metadata": {},
   "outputs": [],
   "source": []
  }
 ],
 "metadata": {
  "kernelspec": {
   "display_name": "Python 3 (ipykernel)",
   "language": "python",
   "name": "python3"
  },
  "language_info": {
   "codemirror_mode": {
    "name": "ipython",
    "version": 3
   },
   "file_extension": ".py",
   "mimetype": "text/x-python",
   "name": "python",
   "nbconvert_exporter": "python",
   "pygments_lexer": "ipython3",
   "version": "3.10.10"
  }
 },
 "nbformat": 4,
 "nbformat_minor": 5
}
