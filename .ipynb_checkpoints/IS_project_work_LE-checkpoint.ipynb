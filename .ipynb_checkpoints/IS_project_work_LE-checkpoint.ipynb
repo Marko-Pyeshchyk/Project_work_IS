{
 "cells": [
  {
   "cell_type": "code",
   "execution_count": 227,
   "id": "b363330d-cd4d-4ef4-8f7e-c4b80b724c24",
   "metadata": {},
   "outputs": [],
   "source": [
    "\n",
    "# Load libraries\n",
    "from pandas import read_csv\n",
    "from pandas.plotting import scatter_matrix\n",
    "from matplotlib import pyplot as plt\n",
    "from sklearn.model_selection import train_test_split\n",
    "from sklearn.model_selection import cross_val_score\n",
    "from sklearn.model_selection import StratifiedKFold\n",
    "from sklearn.metrics import classification_report\n",
    "from sklearn.metrics import confusion_matrix\n",
    "from sklearn.metrics import accuracy_score\n",
    "from sklearn.linear_model import LogisticRegression\n",
    "from sklearn.tree import DecisionTreeClassifier\n",
    "from sklearn.neighbors import KNeighborsClassifier\n",
    "from sklearn.discriminant_analysis import LinearDiscriminantAnalysis\n",
    "from sklearn.naive_bayes import GaussianNB\n",
    "from sklearn.svm import SVC\n",
    "\n",
    "import numpy as np\n",
    "import pandas as pd\n",
    "from sklearn.tree import DecisionTreeClassifier, plot_tree\n",
    "from sklearn.ensemble import RandomForestClassifier, GradientBoostingClassifier\n",
    "from sklearn.metrics import accuracy_score, classification_report, confusion_matrix\n",
    "from sklearn import tree\n",
    "\n",
    "random_state = 42\n",
    "train_size = 0.7"
   ]
  },
  {
   "cell_type": "markdown",
   "id": "051936e6-32d5-47b9-be87-06e445dd8989",
   "metadata": {},
   "source": [
    "<h2>Importing and exploring the dataset</h2>"
   ]
  },
  {
   "cell_type": "markdown",
   "id": "00678442-ac09-43ed-8692-4efe6e011460",
   "metadata": {},
   "source": [
    "At first glance we can already see that some columns have numerical values while other seem to have categorical data.\n",
    "<br>\n",
    "Some raws contain missing values."
   ]
  },
  {
   "cell_type": "code",
   "execution_count": 196,
   "id": "76d6d3e4-0933-428d-a89a-ac1e0f915cdc",
   "metadata": {},
   "outputs": [
    {
     "data": {
      "text/html": [
       "<div>\n",
       "<style scoped>\n",
       "    .dataframe tbody tr th:only-of-type {\n",
       "        vertical-align: middle;\n",
       "    }\n",
       "\n",
       "    .dataframe tbody tr th {\n",
       "        vertical-align: top;\n",
       "    }\n",
       "\n",
       "    .dataframe thead th {\n",
       "        text-align: right;\n",
       "    }\n",
       "</style>\n",
       "<table border=\"1\" class=\"dataframe\">\n",
       "  <thead>\n",
       "    <tr style=\"text-align: right;\">\n",
       "      <th></th>\n",
       "      <th>cand_id</th>\n",
       "      <th>job_id</th>\n",
       "      <th>distance_km</th>\n",
       "      <th>match_score</th>\n",
       "      <th>match_rank</th>\n",
       "      <th>cand_gender</th>\n",
       "      <th>cand_age_bucket</th>\n",
       "      <th>cand_domicile_province</th>\n",
       "      <th>cand_domicile_region</th>\n",
       "      <th>cand_education</th>\n",
       "      <th>job_contract_type</th>\n",
       "      <th>job_professional_category</th>\n",
       "      <th>job_sector</th>\n",
       "      <th>job_work_province</th>\n",
       "    </tr>\n",
       "  </thead>\n",
       "  <tbody>\n",
       "    <tr>\n",
       "      <th>0</th>\n",
       "      <td>5,664,912</td>\n",
       "      <td>OFF_1011_1427</td>\n",
       "      <td>32.327042</td>\n",
       "      <td>99.573387</td>\n",
       "      <td>1</td>\n",
       "      <td>Male</td>\n",
       "      <td>45-54</td>\n",
       "      <td>UD</td>\n",
       "      <td>FRIULI VENEZIA GIULIA</td>\n",
       "      <td>NaN</td>\n",
       "      <td>Lavoro subordinato</td>\n",
       "      <td>Geometra e tecnico di costruzioni civili e ind...</td>\n",
       "      <td>Progettisti / Design / Grafici</td>\n",
       "      <td>UD</td>\n",
       "    </tr>\n",
       "    <tr>\n",
       "      <th>1</th>\n",
       "      <td>4,999,120</td>\n",
       "      <td>OFF_1011_1427</td>\n",
       "      <td>15.595593</td>\n",
       "      <td>99.210564</td>\n",
       "      <td>2</td>\n",
       "      <td>Male</td>\n",
       "      <td>35-44</td>\n",
       "      <td>UD</td>\n",
       "      <td>FRIULI VENEZIA GIULIA</td>\n",
       "      <td>NaN</td>\n",
       "      <td>Lavoro subordinato</td>\n",
       "      <td>Geometra e tecnico di costruzioni civili e ind...</td>\n",
       "      <td>Progettisti / Design / Grafici</td>\n",
       "      <td>UD</td>\n",
       "    </tr>\n",
       "    <tr>\n",
       "      <th>2</th>\n",
       "      <td>5,413,671</td>\n",
       "      <td>OFF_1011_1427</td>\n",
       "      <td>31.348877</td>\n",
       "      <td>99.118614</td>\n",
       "      <td>3</td>\n",
       "      <td>Female</td>\n",
       "      <td>45-54</td>\n",
       "      <td>UD</td>\n",
       "      <td>FRIULI VENEZIA GIULIA</td>\n",
       "      <td>NaN</td>\n",
       "      <td>Lavoro subordinato</td>\n",
       "      <td>Geometra e tecnico di costruzioni civili e ind...</td>\n",
       "      <td>Progettisti / Design / Grafici</td>\n",
       "      <td>UD</td>\n",
       "    </tr>\n",
       "    <tr>\n",
       "      <th>3</th>\n",
       "      <td>5,965,090</td>\n",
       "      <td>OFF_1011_1427</td>\n",
       "      <td>66.315598</td>\n",
       "      <td>97.409767</td>\n",
       "      <td>4</td>\n",
       "      <td>Male</td>\n",
       "      <td>15-24</td>\n",
       "      <td>TS</td>\n",
       "      <td>FRIULI VENEZIA GIULIA</td>\n",
       "      <td>NaN</td>\n",
       "      <td>Lavoro subordinato</td>\n",
       "      <td>Geometra e tecnico di costruzioni civili e ind...</td>\n",
       "      <td>Progettisti / Design / Grafici</td>\n",
       "      <td>UD</td>\n",
       "    </tr>\n",
       "    <tr>\n",
       "      <th>4</th>\n",
       "      <td>5,771,219</td>\n",
       "      <td>OFF_1011_1427</td>\n",
       "      <td>15.595593</td>\n",
       "      <td>97.323875</td>\n",
       "      <td>5</td>\n",
       "      <td>Female</td>\n",
       "      <td>35-44</td>\n",
       "      <td>UD</td>\n",
       "      <td>FRIULI VENEZIA GIULIA</td>\n",
       "      <td>NaN</td>\n",
       "      <td>Lavoro subordinato</td>\n",
       "      <td>Geometra e tecnico di costruzioni civili e ind...</td>\n",
       "      <td>Progettisti / Design / Grafici</td>\n",
       "      <td>UD</td>\n",
       "    </tr>\n",
       "    <tr>\n",
       "      <th>5</th>\n",
       "      <td>2,216,205</td>\n",
       "      <td>OFF_1011_1427</td>\n",
       "      <td>24.946939</td>\n",
       "      <td>96.922318</td>\n",
       "      <td>6</td>\n",
       "      <td>Male</td>\n",
       "      <td>55-74</td>\n",
       "      <td>UD</td>\n",
       "      <td>FRIULI VENEZIA GIULIA</td>\n",
       "      <td>Diploma / Accademia : Geometra</td>\n",
       "      <td>Lavoro subordinato</td>\n",
       "      <td>Geometra e tecnico di costruzioni civili e ind...</td>\n",
       "      <td>Progettisti / Design / Grafici</td>\n",
       "      <td>UD</td>\n",
       "    </tr>\n",
       "    <tr>\n",
       "      <th>6</th>\n",
       "      <td>4,594,051</td>\n",
       "      <td>OFF_1011_1427</td>\n",
       "      <td>27.959969</td>\n",
       "      <td>96.245216</td>\n",
       "      <td>7</td>\n",
       "      <td>Male</td>\n",
       "      <td>55-74</td>\n",
       "      <td>UD</td>\n",
       "      <td>FRIULI VENEZIA GIULIA</td>\n",
       "      <td>NaN</td>\n",
       "      <td>Lavoro subordinato</td>\n",
       "      <td>Geometra e tecnico di costruzioni civili e ind...</td>\n",
       "      <td>Progettisti / Design / Grafici</td>\n",
       "      <td>UD</td>\n",
       "    </tr>\n",
       "    <tr>\n",
       "      <th>7</th>\n",
       "      <td>5,148,878</td>\n",
       "      <td>OFF_1011_1427</td>\n",
       "      <td>25.512180</td>\n",
       "      <td>96.235245</td>\n",
       "      <td>8</td>\n",
       "      <td>Male</td>\n",
       "      <td>25-34</td>\n",
       "      <td>UD</td>\n",
       "      <td>FRIULI VENEZIA GIULIA</td>\n",
       "      <td>NaN</td>\n",
       "      <td>Lavoro subordinato</td>\n",
       "      <td>Geometra e tecnico di costruzioni civili e ind...</td>\n",
       "      <td>Progettisti / Design / Grafici</td>\n",
       "      <td>UD</td>\n",
       "    </tr>\n",
       "    <tr>\n",
       "      <th>8</th>\n",
       "      <td>5,933,345</td>\n",
       "      <td>OFF_1011_1427</td>\n",
       "      <td>28.856832</td>\n",
       "      <td>96.009712</td>\n",
       "      <td>9</td>\n",
       "      <td>Female</td>\n",
       "      <td>45-54</td>\n",
       "      <td>GO</td>\n",
       "      <td>FRIULI VENEZIA GIULIA</td>\n",
       "      <td>NaN</td>\n",
       "      <td>Lavoro subordinato</td>\n",
       "      <td>Geometra e tecnico di costruzioni civili e ind...</td>\n",
       "      <td>Progettisti / Design / Grafici</td>\n",
       "      <td>UD</td>\n",
       "    </tr>\n",
       "    <tr>\n",
       "      <th>9</th>\n",
       "      <td>7,204,128</td>\n",
       "      <td>OFF_1011_1427</td>\n",
       "      <td>31.348877</td>\n",
       "      <td>95.802277</td>\n",
       "      <td>10</td>\n",
       "      <td>Female</td>\n",
       "      <td>35-44</td>\n",
       "      <td>UD</td>\n",
       "      <td>FRIULI VENEZIA GIULIA</td>\n",
       "      <td>NaN</td>\n",
       "      <td>Lavoro subordinato</td>\n",
       "      <td>Geometra e tecnico di costruzioni civili e ind...</td>\n",
       "      <td>Progettisti / Design / Grafici</td>\n",
       "      <td>UD</td>\n",
       "    </tr>\n",
       "  </tbody>\n",
       "</table>\n",
       "</div>"
      ],
      "text/plain": [
       "     cand_id         job_id  distance_km  match_score  match_rank cand_gender  \\\n",
       "0  5,664,912  OFF_1011_1427    32.327042    99.573387           1        Male   \n",
       "1  4,999,120  OFF_1011_1427    15.595593    99.210564           2        Male   \n",
       "2  5,413,671  OFF_1011_1427    31.348877    99.118614           3      Female   \n",
       "3  5,965,090  OFF_1011_1427    66.315598    97.409767           4        Male   \n",
       "4  5,771,219  OFF_1011_1427    15.595593    97.323875           5      Female   \n",
       "5  2,216,205  OFF_1011_1427    24.946939    96.922318           6        Male   \n",
       "6  4,594,051  OFF_1011_1427    27.959969    96.245216           7        Male   \n",
       "7  5,148,878  OFF_1011_1427    25.512180    96.235245           8        Male   \n",
       "8  5,933,345  OFF_1011_1427    28.856832    96.009712           9      Female   \n",
       "9  7,204,128  OFF_1011_1427    31.348877    95.802277          10      Female   \n",
       "\n",
       "  cand_age_bucket cand_domicile_province   cand_domicile_region  \\\n",
       "0           45-54                     UD  FRIULI VENEZIA GIULIA   \n",
       "1           35-44                     UD  FRIULI VENEZIA GIULIA   \n",
       "2           45-54                     UD  FRIULI VENEZIA GIULIA   \n",
       "3           15-24                     TS  FRIULI VENEZIA GIULIA   \n",
       "4           35-44                     UD  FRIULI VENEZIA GIULIA   \n",
       "5           55-74                     UD  FRIULI VENEZIA GIULIA   \n",
       "6           55-74                     UD  FRIULI VENEZIA GIULIA   \n",
       "7           25-34                     UD  FRIULI VENEZIA GIULIA   \n",
       "8           45-54                     GO  FRIULI VENEZIA GIULIA   \n",
       "9           35-44                     UD  FRIULI VENEZIA GIULIA   \n",
       "\n",
       "                   cand_education   job_contract_type  \\\n",
       "0                             NaN  Lavoro subordinato   \n",
       "1                             NaN  Lavoro subordinato   \n",
       "2                             NaN  Lavoro subordinato   \n",
       "3                             NaN  Lavoro subordinato   \n",
       "4                             NaN  Lavoro subordinato   \n",
       "5  Diploma / Accademia : Geometra  Lavoro subordinato   \n",
       "6                             NaN  Lavoro subordinato   \n",
       "7                             NaN  Lavoro subordinato   \n",
       "8                             NaN  Lavoro subordinato   \n",
       "9                             NaN  Lavoro subordinato   \n",
       "\n",
       "                           job_professional_category  \\\n",
       "0  Geometra e tecnico di costruzioni civili e ind...   \n",
       "1  Geometra e tecnico di costruzioni civili e ind...   \n",
       "2  Geometra e tecnico di costruzioni civili e ind...   \n",
       "3  Geometra e tecnico di costruzioni civili e ind...   \n",
       "4  Geometra e tecnico di costruzioni civili e ind...   \n",
       "5  Geometra e tecnico di costruzioni civili e ind...   \n",
       "6  Geometra e tecnico di costruzioni civili e ind...   \n",
       "7  Geometra e tecnico di costruzioni civili e ind...   \n",
       "8  Geometra e tecnico di costruzioni civili e ind...   \n",
       "9  Geometra e tecnico di costruzioni civili e ind...   \n",
       "\n",
       "                       job_sector job_work_province  \n",
       "0  Progettisti / Design / Grafici               UD   \n",
       "1  Progettisti / Design / Grafici               UD   \n",
       "2  Progettisti / Design / Grafici               UD   \n",
       "3  Progettisti / Design / Grafici               UD   \n",
       "4  Progettisti / Design / Grafici               UD   \n",
       "5  Progettisti / Design / Grafici               UD   \n",
       "6  Progettisti / Design / Grafici               UD   \n",
       "7  Progettisti / Design / Grafici               UD   \n",
       "8  Progettisti / Design / Grafici               UD   \n",
       "9  Progettisti / Design / Grafici               UD   "
      ]
     },
     "execution_count": 196,
     "metadata": {},
     "output_type": "execute_result"
    }
   ],
   "source": [
    "url = \"direct_matching_20240213.csv\"\n",
    "raw_dataset = read_csv(url, sep=\";\", header=0)\n",
    "\n",
    "raw_dataset.head(n=10)"
   ]
  },
  {
   "cell_type": "markdown",
   "id": "37273798-00e6-40dd-ab48-0f6b50560691",
   "metadata": {},
   "source": [
    "as we can see there are some things to change like the candidate education (lots of NaN values) or decide the classification column."
   ]
  },
  {
   "cell_type": "code",
   "execution_count": 197,
   "id": "90ff3ee9-80b3-4232-85bd-0db60844d408",
   "metadata": {},
   "outputs": [
    {
     "data": {
      "text/plain": [
       "cand_id                      8647\n",
       "job_id                       8647\n",
       "distance_km                  8647\n",
       "match_score                  8647\n",
       "match_rank                   8647\n",
       "cand_gender                  8647\n",
       "cand_age_bucket              8646\n",
       "cand_domicile_province       8644\n",
       "cand_domicile_region         8642\n",
       "cand_education               2341\n",
       "job_contract_type            8647\n",
       "job_professional_category    8647\n",
       "job_sector                   8647\n",
       "job_work_province            8647\n",
       "dtype: int64"
      ]
     },
     "execution_count": 197,
     "metadata": {},
     "output_type": "execute_result"
    }
   ],
   "source": [
    "raw_dataset.count()"
   ]
  },
  {
   "cell_type": "code",
   "execution_count": 198,
   "id": "fdf53ece-7da1-43a4-905e-ca8591cd41f6",
   "metadata": {},
   "outputs": [
    {
     "name": "stdout",
     "output_type": "stream",
     "text": [
      "number of unique jobs: 865\n"
     ]
    }
   ],
   "source": [
    "n_jobs = raw_dataset['job_id'].nunique()\n",
    "print(\"number of unique jobs:\", n_jobs)"
   ]
  },
  {
   "cell_type": "code",
   "execution_count": 199,
   "id": "8891a739-26f5-4fec-bcf2-78944d4bb5cc",
   "metadata": {},
   "outputs": [
    {
     "data": {
      "text/html": [
       "<div>\n",
       "<style scoped>\n",
       "    .dataframe tbody tr th:only-of-type {\n",
       "        vertical-align: middle;\n",
       "    }\n",
       "\n",
       "    .dataframe tbody tr th {\n",
       "        vertical-align: top;\n",
       "    }\n",
       "\n",
       "    .dataframe thead th {\n",
       "        text-align: right;\n",
       "    }\n",
       "</style>\n",
       "<table border=\"1\" class=\"dataframe\">\n",
       "  <thead>\n",
       "    <tr style=\"text-align: right;\">\n",
       "      <th></th>\n",
       "      <th>cand_id</th>\n",
       "      <th>job_id</th>\n",
       "      <th>distance_km</th>\n",
       "      <th>match_score</th>\n",
       "      <th>match_rank</th>\n",
       "      <th>cand_gender</th>\n",
       "      <th>cand_age_bucket</th>\n",
       "      <th>cand_domicile_province</th>\n",
       "      <th>cand_domicile_region</th>\n",
       "      <th>cand_education</th>\n",
       "      <th>job_contract_type</th>\n",
       "      <th>job_professional_category</th>\n",
       "      <th>job_sector</th>\n",
       "      <th>job_work_province</th>\n",
       "    </tr>\n",
       "  </thead>\n",
       "  <tbody>\n",
       "    <tr>\n",
       "      <th>627</th>\n",
       "      <td>5,449,407</td>\n",
       "      <td>OFF_1745_0198</td>\n",
       "      <td>34.129036</td>\n",
       "      <td>99.759705</td>\n",
       "      <td>9</td>\n",
       "      <td>Male</td>\n",
       "      <td>35-44</td>\n",
       "      <td>NaN</td>\n",
       "      <td>CAMPANIA</td>\n",
       "      <td>NaN</td>\n",
       "      <td>Lavoro subordinato</td>\n",
       "      <td>Carrellista/Mulettista</td>\n",
       "      <td>Magazzino / Logistica / Trasporti</td>\n",
       "      <td>MN</td>\n",
       "    </tr>\n",
       "    <tr>\n",
       "      <th>4493</th>\n",
       "      <td>5,262,317</td>\n",
       "      <td>OFF_789_0870</td>\n",
       "      <td>80.433472</td>\n",
       "      <td>99.623642</td>\n",
       "      <td>6</td>\n",
       "      <td>Male</td>\n",
       "      <td>25-34</td>\n",
       "      <td>NaN</td>\n",
       "      <td>CAMPANIA</td>\n",
       "      <td>NaN</td>\n",
       "      <td>Lavoro subordinato</td>\n",
       "      <td>analista finanziario/analista finanziaria</td>\n",
       "      <td>Banche / Assicurazioni / Istituti di Credito</td>\n",
       "      <td>FI</td>\n",
       "    </tr>\n",
       "    <tr>\n",
       "      <th>8301</th>\n",
       "      <td>6,523,103</td>\n",
       "      <td>ORD_48061_0590</td>\n",
       "      <td>82.721603</td>\n",
       "      <td>96.154732</td>\n",
       "      <td>5</td>\n",
       "      <td>Male</td>\n",
       "      <td>15-24</td>\n",
       "      <td>NaN</td>\n",
       "      <td>NaN</td>\n",
       "      <td>NaN</td>\n",
       "      <td>Lavoro subordinato</td>\n",
       "      <td>Operaio Generico Elettronico/ Elettrotecnico</td>\n",
       "      <td>Operai Generici</td>\n",
       "      <td>BZ</td>\n",
       "    </tr>\n",
       "  </tbody>\n",
       "</table>\n",
       "</div>"
      ],
      "text/plain": [
       "        cand_id          job_id  distance_km  match_score  match_rank  \\\n",
       "627   5,449,407   OFF_1745_0198    34.129036    99.759705           9   \n",
       "4493  5,262,317    OFF_789_0870    80.433472    99.623642           6   \n",
       "8301  6,523,103  ORD_48061_0590    82.721603    96.154732           5   \n",
       "\n",
       "     cand_gender cand_age_bucket cand_domicile_province cand_domicile_region  \\\n",
       "627         Male           35-44                    NaN             CAMPANIA   \n",
       "4493        Male           25-34                    NaN             CAMPANIA   \n",
       "8301        Male           15-24                    NaN                  NaN   \n",
       "\n",
       "     cand_education   job_contract_type  \\\n",
       "627             NaN  Lavoro subordinato   \n",
       "4493            NaN  Lavoro subordinato   \n",
       "8301            NaN  Lavoro subordinato   \n",
       "\n",
       "                         job_professional_category  \\\n",
       "627                         Carrellista/Mulettista   \n",
       "4493     analista finanziario/analista finanziaria   \n",
       "8301  Operaio Generico Elettronico/ Elettrotecnico   \n",
       "\n",
       "                                        job_sector job_work_province  \n",
       "627              Magazzino / Logistica / Trasporti               MN   \n",
       "4493  Banche / Assicurazioni / Istituti di Credito               FI   \n",
       "8301                               Operai Generici               BZ   "
      ]
     },
     "execution_count": 199,
     "metadata": {},
     "output_type": "execute_result"
    }
   ],
   "source": [
    "raw_dataset[raw_dataset[\"cand_domicile_province\"].isna()]"
   ]
  },
  {
   "cell_type": "markdown",
   "id": "a91d7ff4-a4ab-47bf-a8c0-630eb9242033",
   "metadata": {},
   "source": [
    "From what we can see here there is some missing data (we have 8647 candidates and 8644 domicile provinces) so I've decided to drop the missing data raws except for \"cand_education\" where I replace missing values with \"no info\" for those candidates that haven't specified their education."
   ]
  },
  {
   "cell_type": "code",
   "execution_count": 210,
   "id": "b9719c8e-eea7-47f0-9c2f-e9390727dddf",
   "metadata": {},
   "outputs": [
    {
     "data": {
      "text/plain": [
       "distance_km                  8639\n",
       "match_rank                   8639\n",
       "cand_gender                  8639\n",
       "cand_age_bucket              8639\n",
       "cand_domicile_province       8639\n",
       "cand_domicile_region         8639\n",
       "cand_education               8639\n",
       "job_contract_type            8639\n",
       "job_professional_category    8639\n",
       "job_sector                   8639\n",
       "job_work_province            8639\n",
       "dtype: int64"
      ]
     },
     "execution_count": 210,
     "metadata": {},
     "output_type": "execute_result"
    }
   ],
   "source": [
    "dataset = raw_dataset.copy()\n",
    "dataset[\"cand_education\"] = dataset[\"cand_education\"].fillna(value=\"no info\")\n",
    "dataset = dataset.dropna()\n",
    "dataset = dataset.drop([\"cand_id\", \"job_id\", \"match_score\"], axis=1)\n",
    "dataset.count()"
   ]
  },
  {
   "cell_type": "markdown",
   "id": "1acc9a99-bf89-4c2c-aa30-a09dfa994c00",
   "metadata": {},
   "source": [
    "Being that \"match_score\" and \"match_rank\" are stricktly correlated and they mean the same thing, I've decided to drop one.\n",
    "\n",
    "On the other hand \"cand_id\" is not useful for the matching and the details of the candidate are described by other columns.\n",
    "Same for \"job_id\".\n",
    "\n",
    "now the dataset is clean and ready to be used."
   ]
  },
  {
   "cell_type": "markdown",
   "id": "518792c7-7b3c-4aa2-9744-7c4e5e60cc52",
   "metadata": {},
   "source": [
    "<h2>Classification</h2>"
   ]
  },
  {
   "cell_type": "markdown",
   "id": "a5270ade-cddf-419b-9890-8be3bd5bbaf3",
   "metadata": {},
   "source": [
    "Now I want to classify the data with a decision tree so I shall transform strings to numerical data that can be handled."
   ]
  },
  {
   "cell_type": "code",
   "execution_count": 212,
   "id": "1a73bf82-21da-4f08-8deb-cedacee3dd5a",
   "metadata": {},
   "outputs": [
    {
     "name": "stdout",
     "output_type": "stream",
     "text": [
      "age ranges: ['45-54' '35-44' '15-24' '55-74' '25-34']\n",
      "\n",
      "number of categories per column:\n"
     ]
    },
    {
     "data": {
      "text/plain": [
       "cand_gender                    2\n",
       "cand_age_bucket                5\n",
       "cand_domicile_province        78\n",
       "cand_domicile_region          18\n",
       "cand_education               434\n",
       "job_contract_type              3\n",
       "job_professional_category    247\n",
       "job_sector                    26\n",
       "job_work_province             53\n",
       "dtype: int64"
      ]
     },
     "execution_count": 212,
     "metadata": {},
     "output_type": "execute_result"
    }
   ],
   "source": [
    "print(\"age ranges:\", dataset['cand_age_bucket'].unique())\n",
    "\n",
    "numerical_columns = [\"distance_km\", \"match_rank\"]\n",
    "categorical_columns = dataset.drop(numerical_columns, axis=1).columns\n",
    "\n",
    "print(\"\\nnumber of categories per column:\")\n",
    "dataset[categorical_columns].nunique()"
   ]
  },
  {
   "cell_type": "code",
   "execution_count": 215,
   "id": "9713e16e-cbc0-4cc2-bfe1-50b2a0912720",
   "metadata": {},
   "outputs": [],
   "source": [
    "from sklearn.preprocessing import LabelEncoder\n",
    "\n",
    "df = dataset.copy()\n",
    "\n",
    "for column in categorical_columns:\n",
    "    le = LabelEncoder()\n",
    "    df[column] = le.fit_transform(df[column])"
   ]
  },
  {
   "cell_type": "markdown",
   "id": "547d271b-cd6a-416a-85e8-bcfdbe15c495",
   "metadata": {},
   "source": [
    "Now the categorical columns have been encoded and df is the dataframe I can use for a classifier"
   ]
  },
  {
   "cell_type": "code",
   "execution_count": 216,
   "id": "d29c0f07-7a42-4540-a81f-faf53845097d",
   "metadata": {},
   "outputs": [
    {
     "data": {
      "text/plain": [
       "(8639, 11)"
      ]
     },
     "execution_count": 216,
     "metadata": {},
     "output_type": "execute_result"
    }
   ],
   "source": [
    "df.shape"
   ]
  },
  {
   "cell_type": "code",
   "execution_count": 217,
   "id": "7b26ede6-54b5-4ed9-8d57-e1a9433dfb6b",
   "metadata": {},
   "outputs": [
    {
     "data": {
      "text/html": [
       "<div>\n",
       "<style scoped>\n",
       "    .dataframe tbody tr th:only-of-type {\n",
       "        vertical-align: middle;\n",
       "    }\n",
       "\n",
       "    .dataframe tbody tr th {\n",
       "        vertical-align: top;\n",
       "    }\n",
       "\n",
       "    .dataframe thead th {\n",
       "        text-align: right;\n",
       "    }\n",
       "</style>\n",
       "<table border=\"1\" class=\"dataframe\">\n",
       "  <thead>\n",
       "    <tr style=\"text-align: right;\">\n",
       "      <th></th>\n",
       "      <th>distance_km</th>\n",
       "      <th>match_rank</th>\n",
       "      <th>cand_gender</th>\n",
       "      <th>cand_age_bucket</th>\n",
       "      <th>cand_domicile_province</th>\n",
       "      <th>cand_domicile_region</th>\n",
       "      <th>cand_education</th>\n",
       "      <th>job_contract_type</th>\n",
       "      <th>job_professional_category</th>\n",
       "      <th>job_sector</th>\n",
       "      <th>job_work_province</th>\n",
       "    </tr>\n",
       "  </thead>\n",
       "  <tbody>\n",
       "    <tr>\n",
       "      <th>count</th>\n",
       "      <td>8639.000000</td>\n",
       "      <td>8639.000000</td>\n",
       "      <td>8639.000000</td>\n",
       "      <td>8639.000000</td>\n",
       "      <td>8639.000000</td>\n",
       "      <td>8639.000000</td>\n",
       "      <td>8639.000000</td>\n",
       "      <td>8639.000000</td>\n",
       "      <td>8639.000000</td>\n",
       "      <td>8639.000000</td>\n",
       "      <td>8639.000000</td>\n",
       "    </tr>\n",
       "    <tr>\n",
       "      <th>mean</th>\n",
       "      <td>29.754485</td>\n",
       "      <td>5.498206</td>\n",
       "      <td>0.550990</td>\n",
       "      <td>1.892349</td>\n",
       "      <td>38.905660</td>\n",
       "      <td>8.214955</td>\n",
       "      <td>370.336150</td>\n",
       "      <td>0.688969</td>\n",
       "      <td>136.567195</td>\n",
       "      <td>14.744878</td>\n",
       "      <td>27.001852</td>\n",
       "    </tr>\n",
       "    <tr>\n",
       "      <th>std</th>\n",
       "      <td>23.484031</td>\n",
       "      <td>2.872971</td>\n",
       "      <td>0.497422</td>\n",
       "      <td>1.168977</td>\n",
       "      <td>23.536162</td>\n",
       "      <td>4.351507</td>\n",
       "      <td>123.640476</td>\n",
       "      <td>0.949236</td>\n",
       "      <td>68.003542</td>\n",
       "      <td>5.320387</td>\n",
       "      <td>15.734351</td>\n",
       "    </tr>\n",
       "    <tr>\n",
       "      <th>min</th>\n",
       "      <td>0.000000</td>\n",
       "      <td>1.000000</td>\n",
       "      <td>0.000000</td>\n",
       "      <td>0.000000</td>\n",
       "      <td>0.000000</td>\n",
       "      <td>0.000000</td>\n",
       "      <td>0.000000</td>\n",
       "      <td>0.000000</td>\n",
       "      <td>0.000000</td>\n",
       "      <td>0.000000</td>\n",
       "      <td>0.000000</td>\n",
       "    </tr>\n",
       "    <tr>\n",
       "      <th>25%</th>\n",
       "      <td>12.252331</td>\n",
       "      <td>3.000000</td>\n",
       "      <td>0.000000</td>\n",
       "      <td>1.000000</td>\n",
       "      <td>11.000000</td>\n",
       "      <td>7.000000</td>\n",
       "      <td>407.000000</td>\n",
       "      <td>0.000000</td>\n",
       "      <td>89.000000</td>\n",
       "      <td>12.000000</td>\n",
       "      <td>9.000000</td>\n",
       "    </tr>\n",
       "    <tr>\n",
       "      <th>50%</th>\n",
       "      <td>23.437698</td>\n",
       "      <td>5.000000</td>\n",
       "      <td>1.000000</td>\n",
       "      <td>2.000000</td>\n",
       "      <td>38.000000</td>\n",
       "      <td>7.000000</td>\n",
       "      <td>433.000000</td>\n",
       "      <td>0.000000</td>\n",
       "      <td>126.000000</td>\n",
       "      <td>18.000000</td>\n",
       "      <td>26.000000</td>\n",
       "    </tr>\n",
       "    <tr>\n",
       "      <th>75%</th>\n",
       "      <td>41.751572</td>\n",
       "      <td>8.000000</td>\n",
       "      <td>1.000000</td>\n",
       "      <td>3.000000</td>\n",
       "      <td>59.000000</td>\n",
       "      <td>10.000000</td>\n",
       "      <td>433.000000</td>\n",
       "      <td>2.000000</td>\n",
       "      <td>203.000000</td>\n",
       "      <td>18.000000</td>\n",
       "      <td>41.000000</td>\n",
       "    </tr>\n",
       "    <tr>\n",
       "      <th>max</th>\n",
       "      <td>99.966797</td>\n",
       "      <td>10.000000</td>\n",
       "      <td>1.000000</td>\n",
       "      <td>4.000000</td>\n",
       "      <td>77.000000</td>\n",
       "      <td>17.000000</td>\n",
       "      <td>433.000000</td>\n",
       "      <td>2.000000</td>\n",
       "      <td>246.000000</td>\n",
       "      <td>25.000000</td>\n",
       "      <td>52.000000</td>\n",
       "    </tr>\n",
       "  </tbody>\n",
       "</table>\n",
       "</div>"
      ],
      "text/plain": [
       "       distance_km   match_rank  cand_gender  cand_age_bucket  \\\n",
       "count  8639.000000  8639.000000  8639.000000      8639.000000   \n",
       "mean     29.754485     5.498206     0.550990         1.892349   \n",
       "std      23.484031     2.872971     0.497422         1.168977   \n",
       "min       0.000000     1.000000     0.000000         0.000000   \n",
       "25%      12.252331     3.000000     0.000000         1.000000   \n",
       "50%      23.437698     5.000000     1.000000         2.000000   \n",
       "75%      41.751572     8.000000     1.000000         3.000000   \n",
       "max      99.966797    10.000000     1.000000         4.000000   \n",
       "\n",
       "       cand_domicile_province  cand_domicile_region  cand_education  \\\n",
       "count             8639.000000           8639.000000     8639.000000   \n",
       "mean                38.905660              8.214955      370.336150   \n",
       "std                 23.536162              4.351507      123.640476   \n",
       "min                  0.000000              0.000000        0.000000   \n",
       "25%                 11.000000              7.000000      407.000000   \n",
       "50%                 38.000000              7.000000      433.000000   \n",
       "75%                 59.000000             10.000000      433.000000   \n",
       "max                 77.000000             17.000000      433.000000   \n",
       "\n",
       "       job_contract_type  job_professional_category   job_sector  \\\n",
       "count        8639.000000                8639.000000  8639.000000   \n",
       "mean            0.688969                 136.567195    14.744878   \n",
       "std             0.949236                  68.003542     5.320387   \n",
       "min             0.000000                   0.000000     0.000000   \n",
       "25%             0.000000                  89.000000    12.000000   \n",
       "50%             0.000000                 126.000000    18.000000   \n",
       "75%             2.000000                 203.000000    18.000000   \n",
       "max             2.000000                 246.000000    25.000000   \n",
       "\n",
       "       job_work_province  \n",
       "count        8639.000000  \n",
       "mean           27.001852  \n",
       "std            15.734351  \n",
       "min             0.000000  \n",
       "25%             9.000000  \n",
       "50%            26.000000  \n",
       "75%            41.000000  \n",
       "max            52.000000  "
      ]
     },
     "execution_count": 217,
     "metadata": {},
     "output_type": "execute_result"
    }
   ],
   "source": [
    "df.describe()"
   ]
  },
  {
   "cell_type": "code",
   "execution_count": 214,
   "id": "5e0bdafa-09ea-4e63-b2fa-4606c5f98790",
   "metadata": {},
   "outputs": [
    {
     "data": {
      "text/plain": [
       "<Axes: >"
      ]
     },
     "execution_count": 214,
     "metadata": {},
     "output_type": "execute_result"
    },
    {
     "data": {
      "image/png": "[encoded data removed]",
      "text/plain": [
       "<Figure size 640x480 with 2 Axes>"
      ]
     },
     "metadata": {},
     "output_type": "display_data"
    }
   ],
   "source": [
    "import seaborn as sns\n",
    "\n",
    "sns.heatmap(df.corr())"
   ]
  },
  {
   "cell_type": "code",
   "execution_count": 131,
   "id": "3b5f5a05-1303-4e74-a255-41ff1c864e53",
   "metadata": {},
   "outputs": [
    {
     "data": {
      "image/png": "[encoded data removed]",
      "text/plain": [
       "<Figure size 640x480 with 1 Axes>"
      ]
     },
     "metadata": {},
     "output_type": "display_data"
    }
   ],
   "source": [
    "df[\"match_rank\"].plot(kind='box')\n",
    "plt.show()"
   ]
  },
  {
   "cell_type": "code",
   "execution_count": 222,
   "id": "a6c1721b-d607-41c1-9a2d-c7abf345ad44",
   "metadata": {},
   "outputs": [
    {
     "data": {
      "image/png": "[encoded data removed]",
      "text/plain": [
       "<Figure size 640x480 with 1 Axes>"
      ]
     },
     "metadata": {},
     "output_type": "display_data"
    }
   ],
   "source": [
    "df[\"distance_km\"].hist(bins=30, edgecolor=\"black\", grid=False)\n",
    "plt.show()"
   ]
  },
  {
   "cell_type": "markdown",
   "id": "79d389d1-49df-4de8-8c50-c6c5dc4415fe",
   "metadata": {},
   "source": [
    "Chose the target column and divide the dataset into train and test sets."
   ]
  },
  {
   "cell_type": "code",
   "execution_count": 223,
   "id": "d8e8be3f-4db1-4e9f-b8c7-458485bfa1a4",
   "metadata": {},
   "outputs": [
    {
     "name": "stdout",
     "output_type": "stream",
     "text": [
      "(5183, 10) (3456, 10) (5183,) (3456,)\n"
     ]
    }
   ],
   "source": [
    "target = 'match_rank'\n",
    "\n",
    "X = df.drop(target ,axis = 1)\n",
    "y = df[target]\n",
    "\n",
    "X_train, X_test, y_train, y_test = train_test_split(X, y, random_state=42, train_size=train_size)\n",
    "\n",
    "print(X_train.shape, X_test.shape, y_train.shape, y_test.shape)"
   ]
  },
  {
   "cell_type": "code",
   "execution_count": 224,
   "id": "318293d1-379b-43c2-9418-d151a0ad6c46",
   "metadata": {},
   "outputs": [],
   "source": [
    "models = {\n",
    "    \"dt\": {\n",
    "        \"name\": \"DecisionTreeClassifier\",\n",
    "        \"estimator\": DecisionTreeClassifier(random_state=random_state),\n",
    "        \"param\": {\"max_depth\": [*range(1,100)]}\n",
    "    },\n",
    "    \"rf\": {\n",
    "        \"name\": \"RandomForestClassifier\",\n",
    "        \"estimator\": RandomForestClassifier(random_state=random_state),\n",
    "        'param': {\"max_depth\": [*range(1,20)], \"n_estimators\":[*range(10,50,10)]}\n",
    "    },\n",
    "    \"grb\": {\n",
    "        \"name\": \"GradientBoostingClassifier\",\n",
    "        \"estimator\": GradientBoostingClassifier(random_state=random_state),\n",
    "        \"param\": {\"learning_rate\": [0.01, 0.025, 0.05, 0.075, 0.1, 0.15, 0.2],\"max_depth\":[*range(1,10,2)]}\n",
    "    }\n",
    "}"
   ]
  },
  {
   "cell_type": "markdown",
   "id": "00bfb5ac-8442-46b0-aa9a-81efac552ef0",
   "metadata": {},
   "source": [
    "fit and predict the data with each model, then test the accuracy on the train and test sets."
   ]
  },
  {
   "cell_type": "code",
   "execution_count": 225,
   "id": "06255bd0-5491-48f1-b255-49dfb7e9a207",
   "metadata": {},
   "outputs": [
    {
     "name": "stdout",
     "output_type": "stream",
     "text": [
      "train accuracy for DecisionTreeClassifier\t\t93.88385105151457\n",
      "test accuracy for DecisionTreeClassifier\t\t10.300925925925926\n",
      "\n",
      "train accuracy for RandomForestClassifier\t\t93.88385105151457\n",
      "test accuracy for RandomForestClassifier\t\t7.465277777777778\n",
      "\n",
      "train accuracy for GradientBoostingClassifier\t\t36.85124445301949\n",
      "test accuracy for GradientBoostingClassifier\t\t7.8125\n",
      "\n"
     ]
    }
   ],
   "source": [
    "# select the models to try from the \"models\" dictionary \n",
    "models_to_try = [\"dt\", \"rf\", \"grb\"]\n",
    "\n",
    "for m in models_to_try:\n",
    "    model = models[m]\n",
    "    estimator = model[\"estimator\"]\n",
    "    \n",
    "    estimator.fit(X_train, y_train)\n",
    "    \n",
    "    y_predicted_train = estimator.predict(X_train)\n",
    "    accuracy_train = accuracy_score(y_predicted_train, y_train)*100\n",
    "    print(\"train accuracy for {}\\t\\t{}\".format(model[\"name\"],accuracy_train))\n",
    "\n",
    "    y_predicted_test = estimator.predict(X_test)\n",
    "    accuracy_test= accuracy_score(y_test, y_predicted_test) * 100\n",
    "    print(\"test accuracy for {}\\t\\t{}\".format(model[\"name\"],accuracy_test))\n",
    "    print()"
   ]
  },
  {
   "cell_type": "code",
   "execution_count": 226,
   "id": "ff0b7f1a-adff-4ad5-a922-f34bd00653d2",
   "metadata": {},
   "outputs": [
    {
     "name": "stdout",
     "output_type": "stream",
     "text": [
      "best DecisionTreeClassifier\n",
      "{'max_depth': 6}\n",
      "accuracy on test set:\t10.243055555555555\n",
      "\n",
      "best RandomForestClassifier\n",
      "{'max_depth': 1, 'n_estimators': 10}\n",
      "accuracy on test set:\t9.780092592592593\n",
      "\n",
      "best GradientBoostingClassifier\n",
      "{'learning_rate': 0.01, 'max_depth': 1}\n",
      "accuracy on test set:\t10.21412037037037\n",
      "\n"
     ]
    }
   ],
   "source": [
    "from sklearn.model_selection import GridSearchCV, StratifiedKFold\n",
    "\n",
    "n_splits = 3\n",
    "skf = StratifiedKFold(n_splits=n_splits, random_state=random_state, shuffle=True)\n",
    "\n",
    "for m in models_to_try:\n",
    "    model = models[m]\n",
    "    estimator = model[\"estimator\"]\n",
    "    parameters = model[\"param\"]\n",
    "    \n",
    "    clf = GridSearchCV(estimator = estimator, param_grid=parameters , scoring = \"accuracy\", cv = skf, n_jobs=-1)\n",
    "    clf.fit(X_train, y_train)\n",
    "\n",
    "    print(\"best {}\".format(model[\"name\"]))\n",
    "    print(clf.best_params_)\n",
    "    #print(clf.best_score_*100)\n",
    "\n",
    "    best_estimator = clf.best_estimator_\n",
    "    best_estimator.fit(X_train, y_train)\n",
    "    y_predicted_test = best_estimator.predict(X_test)\n",
    "    acc = accuracy_score(y_test, y_predicted_test)\n",
    "    print(\"accuracy on test set:\\t{}\".format(acc*100))\n",
    "    print()"
   ]
  },
  {
   "cell_type": "code",
   "execution_count": null,
   "id": "50a07b4a-8631-40fd-b480-8c69eb86e583",
   "metadata": {},
   "outputs": [],
   "source": []
  }
 ],
 "metadata": {
  "kernelspec": {
   "display_name": "Python 3 (ipykernel)",
   "language": "python",
   "name": "python3"
  },
  "language_info": {
   "codemirror_mode": {
    "name": "ipython",
    "version": 3
   },
   "file_extension": ".py",
   "mimetype": "text/x-python",
   "name": "python",
   "nbconvert_exporter": "python",
   "pygments_lexer": "ipython3",
   "version": "3.10.10"
  }
 },
 "nbformat": 4,
 "nbformat_minor": 5
}
